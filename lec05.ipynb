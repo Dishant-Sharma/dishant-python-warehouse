{
 "cells": [
  {
   "cell_type": "markdown",
   "metadata": {},
   "source": [
    "question sum of natural numbers"
   ]
  },
  {
   "cell_type": "code",
   "execution_count": null,
   "metadata": {},
   "outputs": [],
   "source": [
    "n=int(input(\"enter the limit upto which sum is to be found \"))\n",
    "s=0\n",
    "i=1\n",
    "while i<n+1:\n",
    "    s=s+i\n",
    "    i=i+1\n",
    "    print(s,end=\" \")"
   ]
  },
  {
   "cell_type": "markdown",
   "metadata": {},
   "source": [
    "WAP that reads an integer and displays all its smallest integers ie Prime factors"
   ]
  },
  {
   "cell_type": "code",
   "execution_count": 4,
   "metadata": {},
   "outputs": [
    {
     "name": "stdout",
     "output_type": "stream",
     "text": [
      "enter a num10\n",
      "2\n",
      "5\n"
     ]
    }
   ],
   "source": [
    "num = int(input(\"enter a num\"))\n",
    "\n",
    "factor = 2\n",
    "\n",
    "while factor <= num:\n",
    "    if num % factor == 0:\n",
    "        num = num / factor\n",
    "        #print(num)\n",
    "        print (factor)\n",
    "    else:\n",
    "        factor = factor +1"
   ]
  },
  {
   "cell_type": "code",
   "execution_count": null,
   "metadata": {},
   "outputs": [],
   "source": []
  },
  {
   "cell_type": "code",
   "execution_count": null,
   "metadata": {},
   "outputs": [],
   "source": []
  }
 ],
 "metadata": {
  "kernelspec": {
   "display_name": "Python 3",
   "language": "python",
   "name": "python3"
  },
  "language_info": {
   "codemirror_mode": {
    "name": "ipython",
    "version": 3
   },
   "file_extension": ".py",
   "mimetype": "text/x-python",
   "name": "python",
   "nbconvert_exporter": "python",
   "pygments_lexer": "ipython3",
   "version": "3.7.1"
  }
 },
 "nbformat": 4,
 "nbformat_minor": 2
}
