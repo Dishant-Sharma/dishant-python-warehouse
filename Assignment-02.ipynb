{
 "cells": [
  {
   "cell_type": "markdown",
   "metadata": {},
   "source": [
    "Question 1: Module v/s Library\n",
    "\n",
    "MODULE:  A module is a set of lines of code which are used for a specific purpose and can be used in other programs as it is.\n",
    "         A module can be of three types:\n",
    "             1) one created by the user (ie us)\n",
    "             2) one created by someone else or one which is developed externally\n",
    "             3) one which is pedefined (already present)\n",
    "         Example: suppose i create a module (basically code a function) and save it in a python3 file named first_module.py"
   ]
  },
  {
   "cell_type": "code",
   "execution_count": null,
   "metadata": {},
   "outputs": [],
   "source": [
    "def python_class_a2(student): # 1) one which is created by the user\n",
    "  print(\"morning\",  + student)"
   ]
  },
  {
   "cell_type": "markdown",
   "metadata": {},
   "source": [
    "I can use the above module in another file(s) by using the import statement:"
   ]
  },
  {
   "cell_type": "code",
   "execution_count": null,
   "metadata": {},
   "outputs": [],
   "source": [
    "import first_module     # 2) one which is created by someone else\n",
    "\n",
    "first_module.greeting(\"naom chomsky\")"
   ]
  },
  {
   "cell_type": "code",
   "execution_count": 1,
   "metadata": {},
   "outputs": [
    {
     "name": "stdout",
     "output_type": "stream",
     "text": [
      "Windows\n"
     ]
    }
   ],
   "source": [
    "import platform    # 3) importing a Built-in Modules\n",
    "\n",
    "x = platform.system() \n",
    "print(x)                     \n",
    "                             "
   ]
  },
  {
   "cell_type": "markdown",
   "metadata": {},
   "source": [
    "LIBRARY: Python library is a collection of functions and methods that allows us to perform many actions without writing our code.  Numpy is an example of a  library used for numerical operations."
   ]
  },
  {
   "cell_type": "markdown",
   "metadata": {},
   "source": [
    "Question 2: How to make a matrix which has each of its elements as 2? (there is a by default module only for zeros and ones)"
   ]
  },
  {
   "cell_type": "code",
   "execution_count": 6,
   "metadata": {},
   "outputs": [
    {
     "data": {
      "text/plain": [
       "array([[2., 2., 2., 2., 2., 2., 2.],\n",
       "       [2., 2., 2., 2., 2., 2., 2.],\n",
       "       [2., 2., 2., 2., 2., 2., 2.],\n",
       "       [2., 2., 2., 2., 2., 2., 2.],\n",
       "       [2., 2., 2., 2., 2., 2., 2.],\n",
       "       [2., 2., 2., 2., 2., 2., 2.],\n",
       "       [2., 2., 2., 2., 2., 2., 2.]])"
      ]
     },
     "execution_count": 6,
     "metadata": {},
     "output_type": "execute_result"
    }
   ],
   "source": [
    "import numpy as np\n",
    "x=np.ones((7,7))\n",
    "y=x*2\n",
    "y"
   ]
  },
  {
   "cell_type": "markdown",
   "metadata": {},
   "source": [
    "Question 2: Suppose we have an array -- [0.26,0.34,0.49] how can this array be converted into  --[5.26,5.34,5.49]"
   ]
  },
  {
   "cell_type": "code",
   "execution_count": 14,
   "metadata": {},
   "outputs": [
    {
     "data": {
      "text/plain": [
       "array([0.59418127, 0.24875448, 0.74445643])"
      ]
     },
     "execution_count": 14,
     "metadata": {},
     "output_type": "execute_result"
    }
   ],
   "source": [
    "x=np.random.rand(3)\n",
    "x\n"
   ]
  },
  {
   "cell_type": "code",
   "execution_count": 16,
   "metadata": {},
   "outputs": [
    {
     "data": {
      "text/plain": [
       "array([1.78254382, 0.74626345, 2.23336928])"
      ]
     },
     "execution_count": 16,
     "metadata": {},
     "output_type": "execute_result"
    }
   ],
   "source": [
    "x"
   ]
  },
  {
   "cell_type": "code",
   "execution_count": 17,
   "metadata": {},
   "outputs": [
    {
     "data": {
      "text/plain": [
       "array([5, 5, 5])"
      ]
     },
     "execution_count": 17,
     "metadata": {},
     "output_type": "execute_result"
    }
   ],
   "source": [
    "z= [5,5,5]\n",
    "z1=np.array(z)\n",
    "z1"
   ]
  },
  {
   "cell_type": "code",
   "execution_count": 21,
   "metadata": {},
   "outputs": [
    {
     "data": {
      "text/plain": [
       "array([5.59418127, 5.24875448, 5.74445643])"
      ]
     },
     "execution_count": 21,
     "metadata": {},
     "output_type": "execute_result"
    }
   ],
   "source": [
    "x+z1"
   ]
  },
  {
   "cell_type": "markdown",
   "metadata": {},
   "source": [
    "Question 3: Explain functionality of the following:"
   ]
  },
  {
   "cell_type": "markdown",
   "metadata": {},
   "source": [
    "1) TILE \n",
    "Syntax: numpy.tile(array_name, reps) where array_name is the name of the array already created on which tile is to be applied and reps is the number of timesit has to be repeated.\n",
    " \n",
    "NOTE: If reps (repetitions) has length l, then the result will have dimension of max(l, array_name.ndim) ie max of length , array's dimensions"
   ]
  },
  {
   "cell_type": "code",
   "execution_count": 23,
   "metadata": {},
   "outputs": [
    {
     "data": {
      "text/plain": [
       "array([0, 1, 2, 0, 1, 2])"
      ]
     },
     "execution_count": 23,
     "metadata": {},
     "output_type": "execute_result"
    }
   ],
   "source": [
    "array_name = np.array([0, 1, 2])\n",
    "np.tile(array_name, 2)"
   ]
  },
  {
   "cell_type": "markdown",
   "metadata": {},
   "source": [
    "If array_name.ndim < l, arrray_name is promoted to be l-dimensional by prepending new axes. So a shape (3,) array is promoted to (1, 3) for 2-D replication, or shape (1, 1, 3) for 3-D replication. If this is not the desired behavior, promote A to l-dimensions manually before calling this function."
   ]
  },
  {
   "cell_type": "markdown",
   "metadata": {},
   "source": [
    "If array_name.ndim > l, reps is promoted to array_name.ndim by pre-pending 1’s to it. Thus for an array_name of shape (2, 3, 4, 5), a reps of (2, 2) is treated as (1, 1, 2, 2).\n",
    "\n",
    "Note : Although tile may be used for broadcasting"
   ]
  },
  {
   "cell_type": "markdown",
   "metadata": {},
   "source": [
    "2) DIAG\n",
    "Syntax: numpy.diag(a, k=0) \n",
    "It returns an array which has the diagonal of the asked matrix as an output\n",
    "a : a is the array whose diagonal is to be found\n",
    "If a is a 2-D array, return a copy of its k-th diagonal. If v is a 1-D array, return a 2-D array with v on the k-th diagonal.\n",
    "k : k is an integer value which is optional\n",
    "Diagonal in question. The default is 0. Use k>0 for diagonals above the main diagonal, and k<0 for diagonals below the main diagonal."
   ]
  },
  {
   "cell_type": "code",
   "execution_count": 27,
   "metadata": {},
   "outputs": [
    {
     "data": {
      "text/plain": [
       "array([12, 34, 45, 98, 67, 31, 40, 92,  6])"
      ]
     },
     "execution_count": 27,
     "metadata": {},
     "output_type": "execute_result"
    }
   ],
   "source": [
    "p =[12,34,45,98,67,31,40,92,6]\n",
    "p1=np.array(p)\n",
    "p1"
   ]
  },
  {
   "cell_type": "code",
   "execution_count": 26,
   "metadata": {},
   "outputs": [
    {
     "data": {
      "text/plain": [
       "array([[12,  0,  0,  0,  0,  0,  0,  0,  0],\n",
       "       [ 0, 34,  0,  0,  0,  0,  0,  0,  0],\n",
       "       [ 0,  0, 45,  0,  0,  0,  0,  0,  0],\n",
       "       [ 0,  0,  0, 98,  0,  0,  0,  0,  0],\n",
       "       [ 0,  0,  0,  0, 67,  0,  0,  0,  0],\n",
       "       [ 0,  0,  0,  0,  0, 31,  0,  0,  0],\n",
       "       [ 0,  0,  0,  0,  0,  0, 40,  0,  0],\n",
       "       [ 0,  0,  0,  0,  0,  0,  0, 92,  0],\n",
       "       [ 0,  0,  0,  0,  0,  0,  0,  0,  6]])"
      ]
     },
     "execution_count": 26,
     "metadata": {},
     "output_type": "execute_result"
    }
   ],
   "source": [
    "np.diag(p)"
   ]
  },
  {
   "cell_type": "code",
   "execution_count": 34,
   "metadata": {},
   "outputs": [
    {
     "data": {
      "text/plain": [
       "array([[12, 34, 45],\n",
       "       [98, 67, 31],\n",
       "       [40, 92,  6]])"
      ]
     },
     "execution_count": 34,
     "metadata": {},
     "output_type": "execute_result"
    }
   ],
   "source": [
    "z9=p1.reshape(3,3)\n",
    "z9"
   ]
  },
  {
   "cell_type": "code",
   "execution_count": 35,
   "metadata": {},
   "outputs": [
    {
     "data": {
      "text/plain": [
       "array([12, 67,  6])"
      ]
     },
     "execution_count": 35,
     "metadata": {},
     "output_type": "execute_result"
    }
   ],
   "source": [
    "np.diag(z9)"
   ]
  },
  {
   "cell_type": "markdown",
   "metadata": {},
   "source": [
    "3) INVERSE\n",
    "Syntax: numpy.linalg.inv(array_name)\n",
    "Compute the (multiplicative) inverse of a matrix.\n",
    "\n",
    "Given a square matrix a, it returns the matrix ainv satisfying dot(a, ainv) = dot(ainv, a) = eye(a.shape[0]).\n",
    "I have to use numpy.linalg.inv() function to calculate the inverse of a matrix. The inverse of a matrix is such that if it is multiplied by the original matrix, it results in identity matrix."
   ]
  },
  {
   "cell_type": "code",
   "execution_count": 44,
   "metadata": {},
   "outputs": [
    {
     "name": "stdout",
     "output_type": "stream",
     "text": [
      "[[1 2]\n",
      " [3 4]]\n",
      "[[-2.   1. ]\n",
      " [ 1.5 -0.5]]\n",
      "[[1.00000000e+00 1.11022302e-16]\n",
      " [0.00000000e+00 1.00000000e+00]]\n"
     ]
    }
   ],
   "source": [
    "q = np.array([[1,2],[3,4]]) \n",
    "r = np.linalg.inv(q) \n",
    "print(q)\n",
    "print(r)\n",
    "print(np.dot(q,r)) #gives product of two arrays"
   ]
  },
  {
   "cell_type": "markdown",
   "metadata": {},
   "source": [
    "4) TRANSPOSE\n",
    "Syntax: matrix_name.transpose(*axes)     ie.Returns a view of the array with axes transposed.\n",
    "\n",
    "For a 1-D array, this has no effect. (To change between column and row vectors, first cast the 1-D array into a matrix object.) For a 2-D array, this is the usual matrix transpose. For an n-D array, if axes are given, their order indicates how the axes are permuted (see Examples). If axes are not provided and a.shape = (i[0], i[1], ... i[n-2], i[n-1]), then a.transpose().shape = (i[n-1], i[n-2], ... i[1], i[0]).\n",
    "\n",
    "Parameters:\t\n",
    "axes : None, tuple of ints, or n ints\n",
    "None or no argument: reverses the order of the axes.\n",
    "tuple of ints: i in the j-th place in the tuple means a’s i-th axis becomes a.transpose()’s j-th axis.\n",
    "n ints: same as an n-tuple of the same ints (this form is intended simply as a “convenience” alternative to the tuple form)"
   ]
  },
  {
   "cell_type": "code",
   "execution_count": 53,
   "metadata": {},
   "outputs": [
    {
     "name": "stdout",
     "output_type": "stream",
     "text": [
      "[[1 2]\n",
      " [3 4]]\n"
     ]
    },
    {
     "data": {
      "text/plain": [
       "array([[1, 3],\n",
       "       [2, 4]])"
      ]
     },
     "execution_count": 53,
     "metadata": {},
     "output_type": "execute_result"
    }
   ],
   "source": [
    "a = np.array([[1, 2], [3, 4]])\n",
    "print(a)\n",
    "np.transpose(a)"
   ]
  },
  {
   "cell_type": "markdown",
   "metadata": {},
   "source": [
    "Question 4: Stacking of arrays in Python : Horizontal and Vertical stacking\n",
    "Stacking means to join a sequence of arrays along a new axis. It is of two types:\n",
    "   1) Horizontal stacking:\n",
    "   Stack arrays in sequence horizontally (column wise)\n",
    "   Syntax: numpy.hstack(tup) where tup : sequence of ndarrays -The arrays must have the same shape along all but the second        axis, except 1-D arrays which can be any length.\n",
    "    \n",
    "   This is equivalent to concatenation along the second axis, except for 1-D arrays where it concatenates along the first axis.    This function makes most sense for arrays with up to 3 dimensions. For instance, for pixel-data with a height (first axis),    width (second axis), and r/g/b channels (third axis). The functions concatenate, stack and block provide more general          stacking and concatenation operations."
   ]
  },
  {
   "cell_type": "code",
   "execution_count": 54,
   "metadata": {},
   "outputs": [
    {
     "data": {
      "text/plain": [
       "array([1, 2, 3, 2, 3, 4])"
      ]
     },
     "execution_count": 54,
     "metadata": {},
     "output_type": "execute_result"
    }
   ],
   "source": [
    "i= np.array((1,2,3))\n",
    "i1 = np.array((2,3,4))\n",
    "np.hstack((i,i1))"
   ]
  },
  {
   "cell_type": "markdown",
   "metadata": {},
   "source": [
    "   2) Vertical stacking:\n",
    "   Stack arrays in sequence vertically (row wise)\n",
    "   Syntax: numpy.vstack(tup) where tup : sequence of ndarrays -The arrays must have the same shape along all but the      first    axis. 1-D arrays must have the same length. This is equivalent to concatenation along the first axis after 1-D arrays of        shape (N,) have been reshaped to (1,N). Rebuilds arrays divided by vsplit.\n",
    "\n",
    "   This function makes most sense for arrays with up to 3 dimensions. For instance, for pixel-data with a height (first axis),    width (second axis), and r/g/b channels (third axis). The functions concatenate, stack and block provide more general          stacking and concatenation operations."
   ]
  },
  {
   "cell_type": "code",
   "execution_count": 55,
   "metadata": {},
   "outputs": [
    {
     "data": {
      "text/plain": [
       "array([[1, 2, 3],\n",
       "       [2, 3, 4]])"
      ]
     },
     "execution_count": 55,
     "metadata": {},
     "output_type": "execute_result"
    }
   ],
   "source": [
    "l= np.array([1, 2, 3])\n",
    "m= np.array([2, 3, 4])\n",
    "np.vstack((l,m))"
   ]
  },
  {
   "cell_type": "code",
   "execution_count": 56,
   "metadata": {},
   "outputs": [
    {
     "name": "stdout",
     "output_type": "stream",
     "text": [
      "Vertical stacking:\n",
      " [[1 2]\n",
      " [3 4]\n",
      " [5 6]\n",
      " [7 8]]\n",
      "\n",
      "Horizontal stacking:\n",
      " [[1 2 5 6]\n",
      " [3 4 7 8]]\n"
     ]
    }
   ],
   "source": [
    "a1 = np.array([[1, 2], \n",
    "              [3, 4]]) \n",
    "  \n",
    "b1 = np.array([[5, 6], \n",
    "              [7, 8]]) \n",
    "# vertical stacking \n",
    "print(\"Vertical stacking:\\n\", np.vstack((a1, b1))) \n",
    "  \n",
    "# horizontal stacking \n",
    "print(\"\\nHorizontal stacking:\\n\", np.hstack((a1, b1))) "
   ]
  }
 ],
 "metadata": {
  "kernelspec": {
   "display_name": "Python 3",
   "language": "python",
   "name": "python3"
  },
  "language_info": {
   "codemirror_mode": {
    "name": "ipython",
    "version": 3
   },
   "file_extension": ".py",
   "mimetype": "text/x-python",
   "name": "python",
   "nbconvert_exporter": "python",
   "pygments_lexer": "ipython3",
   "version": "3.7.1"
  }
 },
 "nbformat": 4,
 "nbformat_minor": 2
}
