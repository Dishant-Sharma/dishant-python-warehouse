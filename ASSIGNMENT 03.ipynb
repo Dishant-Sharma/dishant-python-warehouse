{
 "cells": [
  {
   "cell_type": "markdown",
   "metadata": {},
   "source": [
    "QUES 1: Concatenation in pandas"
   ]
  },
  {
   "cell_type": "markdown",
   "metadata": {},
   "source": [
    "It helps to Concatenate pandas objects along a particular axis with optional set logic along the other axes.\n",
    "It can also add a layer of hierarchical indexing on the concatenation axis, which may be useful if the labels are the same (or overlapping) on the passed axis number.\n",
    "\n",
    "Syntax: pandas.concat(objs, axis=0, join='outer', join_axes=None, ignore_index=False, keys=None, levels=None, names=None, verify_integrity=False, sort=None, copy=True)\n",
    "\n",
    "Arguements:\n",
    "\n",
    "   1) objs : a sequence or mapping of Series, DataFrame, or Panel objects\n",
    "    If a dict is passed, the sorted keys will be used as the keys argument, unless it is passed, in which case the values will     be selected . Any None objects will be dropped silently unless they are all None in which case a ValueError will be raised.\n",
    "    \n",
    "   2) axis : {0/’index’, 1/’columns’}, default 0\n",
    "    The axis to concatenate along\n",
    "\n",
    "   3) join : {‘inner’, ‘outer’}, default ‘outer’\n",
    "    To handle indexes on other axis(es)\n",
    "    \n",
    "   4) join_axes : list of Index objects\n",
    "    Specific indexes to use for the other n - 1 axes instead of performing inner/outer set logic\n",
    "\n",
    "   5) ignore_index : boolean, default False\n",
    "    If True, do not use the index values along the concatenation axis. The resulting axis will be labeled 0, …, n - 1. This is     useful if you are concatenating objects where the concatenation axis does not have meaningful indexing information. Note       the index values on the other axes are still respected in the join.\n",
    "    \n",
    "   6) keys : sequence, default None\n",
    "    If multiple levels passed, should contain tuples. Construct hierarchical index using the passed keys as the outermost level\n",
    "\n",
    "   7) levels : list of sequences, default None\n",
    "    Specific levels (unique values) to use for constructing a MultiIndex. Otherwise they will be inferred from the keys\n",
    "\n",
    "   8) names : list, default None\n",
    "    Names for the levels in the resulting hierarchical index\n",
    "\n",
    "   9) verify_integrity : boolean, default False\n",
    "    Checks whether the new concatenated axis contains duplicates. This can be very expensive relative to the actual data           concatenation\n",
    "\n",
    "   10) sort : boolean, default None\n",
    "     Sort non-concatenation axis if it is not already aligned when join is ‘outer’. The current default of sorting is                deprecated and will change to not-sorting in a future version of pandas.Explicitly pass sort=True to silence the warning        and sort. Explicitly pass sort=False to silence the warning and not sort.\n",
    "     This has no effect when join='inner', which already preserves the order of the non-concatenation axis.\n",
    "   11) copy : boolean, default True\n",
    "     If False, do not copy data unnecessarily\n",
    "    "
   ]
  },
  {
   "cell_type": "markdown",
   "metadata": {},
   "source": [
    "QUES 2: Difference between append and concatenation?"
   ]
  },
  {
   "cell_type": "markdown",
   "metadata": {},
   "source": [
    "The append method adds a new item to the end of a list whereas it is also possible to add a new item to the end of a list by using the concatenation operator. Example:"
   ]
  },
  {
   "cell_type": "code",
   "execution_count": 2,
   "metadata": {},
   "outputs": [
    {
     "data": {
      "text/plain": [
       "[45, 32, 88, 'cat']"
      ]
     },
     "execution_count": 2,
     "metadata": {},
     "output_type": "execute_result"
    }
   ],
   "source": [
    "list1 = [45, 32, 88]\n",
    "\n",
    "list1.append(\"cat\")\n",
    "list1"
   ]
  },
  {
   "cell_type": "markdown",
   "metadata": {},
   "source": [
    "I have used append which simply modifies the list.\n",
    "In order to use concatenation, we need to write an assignment statement that uses the accumulator pattern:"
   ]
  },
  {
   "cell_type": "code",
   "execution_count": 3,
   "metadata": {},
   "outputs": [
    {
     "data": {
      "text/plain": [
       "[45, 32, 88, 'cat', 'cat']"
      ]
     },
     "execution_count": 3,
     "metadata": {},
     "output_type": "execute_result"
    }
   ],
   "source": [
    "list1 = list1 + [\"cat\"]\n",
    "list1"
   ]
  },
  {
   "cell_type": "markdown",
   "metadata": {},
   "source": [
    "It is also important to realize that with append, the original list is simply modified. On the other hand, with concatenation, an entirely new list is created. "
   ]
  },
  {
   "cell_type": "markdown",
   "metadata": {},
   "source": [
    "Question 3: Primary , Foreign and Composite Key"
   ]
  },
  {
   "cell_type": "markdown",
   "metadata": {},
   "source": [
    "1) Primary key: A column or group of columns in a table which helps us to uniquely identifies every row in that table is called                 a primary key.The same value can't appear more than once in the table.\n",
    "\n",
    "   Rules for defining Primary key:\n",
    "                Two rows can't have the same primary key value\n",
    "                It must for every row to have a primary key value.\n",
    "                The primary key field cannot be null.\n",
    "                The value in a primary key column can never be modified or updated if any foreign key refers to that primary                   key.\n",
    "   Example:In the following example, StudID is a Primary Key.\n",
    "\n",
    " StudID   Roll No      First Name   LastName\t  Email\n",
    " 1\t\t  l1           Tom          Price\t      abc@gmail.com                            \n",
    " 2\t\t  l2           NicK         Wright        xyz@gmail.com\n",
    " 3\t\t  l3           Dana         Natan         mno@yahoo.com"
   ]
  },
  {
   "cell_type": "markdown",
   "metadata": {},
   "source": [
    "2) Foreign key :A foreign key is a column which is added to create a relationship with another table. Foreign keys help us to maintain data integrity and also allows navigation between two different instances of an entity. Every relationship in the model needs to be supported by a foreign key.\n",
    "\n",
    "Example:\n",
    "\n",
    "DeptCode\tDeptName\n",
    "001\t        Science\n",
    "002      \tEnglish\n",
    "005\t        Computer\n",
    "\n",
    "\n",
    "Teacher ID\tFname\tLname\n",
    "B002\t    David\tWarner\n",
    "B017\t    Sara\tJoseph\n",
    "B009\t    Mike\tBrunton\n",
    "\n",
    "In this example, we have two table, teach and department in a school. However, there is no way to see which search work in which department.\n",
    "In this table, adding the foreign key in Deptcode to the Teacher name, we can create a relationship between the two tables.\n",
    "\n",
    "Teacher ID\tDeptCode\tFname\tLname\n",
    "B002\t    002         David   Warner\n",
    "B017\t    002\t        Sara\tJoseph\n",
    "B009\t    001\t        Mike\tBrunton\n",
    "This concept is also known as Referential Integrity."
   ]
  },
  {
   "cell_type": "markdown",
   "metadata": {},
   "source": [
    "3) Composite key: A key which has multiple attributes to uniquely identify rows in a table is called a composite key. The difference between compound and the composite key is that any part of the compound key can be a foreign key, but the composite key may or maybe not a part of the foreign key."
   ]
  },
  {
   "cell_type": "markdown",
   "metadata": {},
   "source": [
    "Question 4: Explain concept of Joins?"
   ]
  },
  {
   "cell_type": "markdown",
   "metadata": {},
   "source": [
    "1) INNER JOIN: The INNER JOIN keyword selects all rows from both the tables as long as the condition satisfies. This keyword will create the result-set by combining all rows from both the tables where the condition satisfies i.e value of the common field will be same\n",
    "2) LEFT JOIN: This join returns all the rows of the table on the left side of the join and matching rows for the table on the right side of join. The rows for which there is no matching row on right side, the result-set will contain null. LEFT JOIN is also known as LEFT OUTER JOIN.\n",
    "3) RIGHT JOIN: RIGHT JOIN is similar to LEFT JOIN. This join returns all the rows of the table on the right side of the join and matching rows for the table on the left side of join. The rows for which there is no matching row on left side, the result-set will contain null. RIGHT JOIN is also known as RIGHT OUTER JOIN.\n",
    "4) FULL JOIN: FULL JOIN creates the result-set by combining result of both LEFT JOIN and RIGHT JOIN. The result-set will contain all the rows from both the tables. The rows for which there is no matching, the result-set will contain NULL values"
   ]
  },
  {
   "cell_type": "markdown",
   "metadata": {},
   "source": [
    "QUES 5: Wine Quality Project"
   ]
  }
 ],
 "metadata": {
  "kernelspec": {
   "display_name": "Python 3",
   "language": "python",
   "name": "python3"
  },
  "language_info": {
   "codemirror_mode": {
    "name": "ipython",
    "version": 3
   },
   "file_extension": ".py",
   "mimetype": "text/x-python",
   "name": "python",
   "nbconvert_exporter": "python",
   "pygments_lexer": "ipython3",
   "version": "3.7.1"
  }
 },
 "nbformat": 4,
 "nbformat_minor": 2
}
